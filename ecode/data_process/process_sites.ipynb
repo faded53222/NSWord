{
 "cells": [
  {
   "cell_type": "markdown",
   "metadata": {
    "heading_collapsed": true,
    "jp-MarkdownHeadingCollapsed": true
   },
   "source": [
    "# import"
   ]
  },
  {
   "cell_type": "code",
   "execution_count": null,
   "metadata": {
    "hidden": true
   },
   "outputs": [],
   "source": [
    "import random\n",
    "from pyensembl import EnsemblRelease\n",
    "#run the next line if you have not used EnsemblRelease\n",
    "#pyensembl install --release 110 --species homo_sapiens"
   ]
  },
  {
   "cell_type": "markdown",
   "metadata": {},
   "source": [
    "# Related data acquire"
   ]
  },
  {
   "cell_type": "markdown",
   "metadata": {},
   "source": [
    "Hct116.txt acquisition：\n",
    "\n",
    "wget http://sg-nex-data.s3.amazonaws.com/data/annotations/m6ACE_seq_reference_table/Hct116_m6ACEsites.txt -O Hct116.txt"
   ]
  },
  {
   "cell_type": "markdown",
   "metadata": {},
   "source": [
    "human.hg38.m6A.result.col29.bed acquisition:\n",
    "\n",
    "download hg38.m6A.tar.gz in https://rna.sysu.edu.cn/rmbase3/download.php\n",
    "![My Image](instru.png)\n",
    "tar -zxvf hg38.m6A.tar.gz"
   ]
  },
  {
   "cell_type": "markdown",
   "metadata": {
    "heading_collapsed": true,
    "jp-MarkdownHeadingCollapsed": true
   },
   "source": [
    "# From .bed to ENST"
   ]
  },
  {
   "cell_type": "code",
   "execution_count": 2,
   "metadata": {
    "hidden": true
   },
   "outputs": [],
   "source": [
    "def get_sites_for_cell_line(Ensembl_data,bed_file,search_cell_line):\n",
    "    sites_write_ENST=open(search_cell_line+'_ENST.txt','w')\n",
    "\n",
    "    f=open(bed_file+'.bed','r')\n",
    "    for line in f.readlines():\n",
    "        items=line.strip().split('\\t')\n",
    "        line_cell_lines=items[11].split(',')\n",
    "        if search_cell_line not in line_cell_lines:\n",
    "            continue\n",
    "        g_pos=int(items[2])\n",
    "        k5=items[18][18:23]\n",
    "        line_ENSTs=items[14].split(',')\n",
    "        for ENST in line_ENSTs:\n",
    "            try:\n",
    "                exons=Ensembl_data.exon_ids_of_transcript_id(ENST[:15])\n",
    "            except:\n",
    "                continue\n",
    "            c_pos=0\n",
    "            for exon in exons:\n",
    "                try:\n",
    "                    exon_info=Ensembl_data.exon_by_id(exon)\n",
    "                except:\n",
    "                    break\n",
    "\n",
    "                exon_start,exon_end=exon_info.start,exon_info.end\n",
    "                if g_pos>exon_end:\n",
    "                    c_pos+=exon_end-exon_start+1\n",
    "                    continue\n",
    "                if g_pos>=exon_start:\n",
    "                    sites_write_ENST.write('%s_%d_%s\\n'%(ENST[:15],c_pos+g_pos-exon_start,k5))                \n",
    "                break\n",
    "    sites_write_ENST.close()\n",
    "    f.close()"
   ]
  },
  {
   "cell_type": "code",
   "execution_count": 3,
   "metadata": {
    "hidden": true
   },
   "outputs": [],
   "source": [
    "Ensembl_data=EnsemblRelease(110)"
   ]
  },
  {
   "cell_type": "code",
   "execution_count": 20,
   "metadata": {
    "hidden": true
   },
   "outputs": [],
   "source": [
    "get_sites_for_cell_line(Ensembl_data,'human.hg38.m6A.result.col29','HepG2')"
   ]
  },
  {
   "cell_type": "code",
   "execution_count": 21,
   "metadata": {
    "hidden": true
   },
   "outputs": [],
   "source": [
    "get_sites_for_cell_line(Ensembl_data,'human.hg38.m6A.result.col29','A549')"
   ]
  },
  {
   "cell_type": "markdown",
   "metadata": {
    "heading_collapsed": true,
    "jp-MarkdownHeadingCollapsed": true
   },
   "source": [
    "# From ENSG to ENST"
   ]
  },
  {
   "cell_type": "code",
   "execution_count": 22,
   "metadata": {
    "hidden": true
   },
   "outputs": [],
   "source": [
    "def ENSG_reindex_to_ENST(Ensembl_data,sites_file):\n",
    "    sites_write_ENST=open(sites_file+'_ENST.txt','w')\n",
    "    f=open(sites_file+'.txt','r')\n",
    "    \n",
    "    c_gene=None\n",
    "    c_trans={}\n",
    "    while 1:\n",
    "        line=f.readline()\n",
    "        if not line:\n",
    "            break\n",
    "        gene,g_pos,k5=line.strip().split('_')\n",
    "        g_pos=int(g_pos)\n",
    "        \n",
    "        try:\n",
    "            Ensembl_data.transcript_ids_of_gene_id(gene)\n",
    "        except:\n",
    "            continue\n",
    "        \n",
    "        if gene!=c_gene:\n",
    "            c_trans={}\n",
    "            for t_trans in Ensembl_data.transcript_ids_of_gene_id(gene):\n",
    "                c_trans[t_trans]=[]\n",
    "                for t_exon in Ensembl_data.exon_ids_of_transcript_id(t_trans):\n",
    "                    t_exon_info=Ensembl_data.exon_by_id(t_exon)\n",
    "                    c_trans[t_trans].append([t_exon_info.start,t_exon_info.end])\n",
    "            c_gene=gene\n",
    "\n",
    "        for ENST in c_trans:\n",
    "            c_pos=0\n",
    "            for start_end in c_trans[ENST]:\n",
    "                if g_pos>start_end[1]:\n",
    "                    c_pos+=start_end[1]-start_end[0]+1\n",
    "                    continue\n",
    "                if g_pos>=start_end[0]:\n",
    "                    sites_write_ENST.write('%s_%d_%s\\n'%(ENST,c_pos+g_pos-start_end[0],k5))                \n",
    "                break\n",
    "    sites_write_ENST.close()\n",
    "    f.close()"
   ]
  },
  {
   "cell_type": "code",
   "execution_count": 23,
   "metadata": {
    "hidden": true
   },
   "outputs": [],
   "source": [
    "sites_file='./Hct116'\n",
    "Ensembl_data=EnsemblRelease(110)\n",
    "ENSG_reindex_to_ENST(Ensembl_data,sites_file)"
   ]
  },
  {
   "cell_type": "markdown",
   "metadata": {
    "heading_collapsed": true,
    "jp-MarkdownHeadingCollapsed": true
   },
   "source": [
    "# One of the ways to select negative sites"
   ]
  },
  {
   "cell_type": "code",
   "execution_count": null,
   "metadata": {
    "hidden": true
   },
   "outputs": [],
   "source": [
    "#only a half of the negative sites is selected in this way,\n",
    "#by selecting sites that is modifiable in other cell lines but not in the cell line where positive labels come from"
   ]
  },
  {
   "cell_type": "code",
   "execution_count": 3,
   "metadata": {
    "hidden": true
   },
   "outputs": [],
   "source": [
    "def get_negative_sites(to_select_sites_files,exclude_sites_file,write_file):\n",
    "    e_file=open(exclude_sites_file+'.txt','r')\n",
    "    e_ENSTs,e_5mers,e_lines=set(),set(),set()\n",
    "    for line in e_file:\n",
    "        l=line.strip()\n",
    "        e_ENSTs.add(l.split('_')[0])\n",
    "        e_5mers.add(l.split('_')[2])\n",
    "        e_lines.add(l)\n",
    "    print('e_lines',len(e_lines))\n",
    "    print('e_5mers',e_5mers)\n",
    "    \n",
    "    w_file=open(write_file+'.txt','w')\n",
    "    s_lines=set()\n",
    "    for to_select_sites_file in to_select_sites_files:\n",
    "        s_file=open(to_select_sites_file+'.txt','r')\n",
    "        for line in s_file:\n",
    "            l=line.strip()\n",
    "            if l.split('_')[0] not in e_ENSTs:\n",
    "                continue\n",
    "            if l.split('_')[2] not in e_5mers:\n",
    "                continue\n",
    "            if l not in e_lines:\n",
    "                s_lines.add(l)\n",
    "\n",
    "    print('s_lines',len(s_lines))\n",
    "    s_lines=random.sample(list(s_lines),min(int(len(e_lines)/2),len(s_lines)))\n",
    "    for line in s_lines:\n",
    "        w_file.write(line+'\\n')"
   ]
  },
  {
   "cell_type": "code",
   "execution_count": 17,
   "metadata": {
    "hidden": true
   },
   "outputs": [
    {
     "name": "stdout",
     "output_type": "stream",
     "text": [
      "e_lines 19326\n",
      "e_5mers {'AAACT', 'GGACC', 'TGACC', 'AAACC', 'TGACT', 'GAACA', 'GGACT', 'AGACT', 'AAACA', 'GAACC', 'AGACC', 'TAACA', 'AGACA', 'TAACT', 'TAACC', 'TGACA', 'GGACA', 'GAACT'}\n",
      "s_lines 71656\n"
     ]
    }
   ],
   "source": [
    "get_negative_sites(['HepG2_ENST','A549_ENST'],'Hct116_ENST','others_reduced_by_Hct116_ENST')"
   ]
  },
  {
   "cell_type": "code",
   "execution_count": null,
   "metadata": {},
   "outputs": [],
   "source": []
  }
 ],
 "metadata": {
  "celltoolbar": "无",
  "kernelspec": {
   "display_name": "Python 3 (ipykernel)",
   "language": "python",
   "name": "python3"
  },
  "language_info": {
   "codemirror_mode": {
    "name": "ipython",
    "version": 3
   },
   "file_extension": ".py",
   "mimetype": "text/x-python",
   "name": "python",
   "nbconvert_exporter": "python",
   "pygments_lexer": "ipython3",
   "version": "3.11.3"
  }
 },
 "nbformat": 4,
 "nbformat_minor": 4
}
