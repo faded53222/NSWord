{
 "cells": [
  {
   "cell_type": "code",
   "execution_count": 1,
   "metadata": {},
   "outputs": [],
   "source": [
    "from pyensembl import EnsemblRelease\n",
    "#pyensembl install --release 110 --species homo_sapiens"
   ]
  },
  {
   "cell_type": "code",
   "execution_count": 2,
   "metadata": {},
   "outputs": [],
   "source": [
    "def ENSG_reindex_to_ENST(file,E_data):\n",
    "    fw=open(file+'_ENST.txt','w')\n",
    "    f=open(file+'.txt','r')\n",
    "    \n",
    "    c_gene=0\n",
    "    c_trans={}\n",
    "    while 1:\n",
    "        line=f.readline()\n",
    "        if not line:\n",
    "            break\n",
    "        gene,g_pos,k5=line.strip().split('_')\n",
    "        g_pos=int(g_pos)\n",
    "        \n",
    "        try:\n",
    "            E_data.transcript_ids_of_gene_id(gene)\n",
    "        except:\n",
    "            print(gene,'not found in Ensembl. Case skipped.')\n",
    "            continue\n",
    "        \n",
    "        if gene!=c_gene:\n",
    "            c_trans={}\n",
    "            for t_trans in E_data.transcript_ids_of_gene_id(gene):\n",
    "                c_trans[t_trans]=[]\n",
    "                for t_exon in E_data.exon_ids_of_transcript_id(t_trans):\n",
    "                    t_exon_info=E_data.exon_by_id(t_exon)\n",
    "                    c_trans[t_trans].append([t_exon_info.start,t_exon_info.end])\n",
    "            c_gene=gene\n",
    "\n",
    "        for each in c_trans:\n",
    "            t_pos=0\n",
    "            for each2 in c_trans[each]:\n",
    "                if g_pos<each2[0]:\n",
    "                    break\n",
    "                if g_pos<each2[1]:\n",
    "                    t_pos+=g_pos-each2[0]\n",
    "                    fw.write('%s_%d_%s\\n'%(each,t_pos,k5))\n",
    "                    break\n",
    "                t_pos+=each2[1]-each2[0]\n",
    "\n",
    "    fw.close()\n",
    "    f.close()"
   ]
  },
  {
   "cell_type": "code",
   "execution_count": 3,
   "metadata": {
    "scrolled": true
   },
   "outputs": [
    {
     "name": "stdout",
     "output_type": "stream",
     "text": [
      "ENSG00000130489 not found in Ensembl. Case skipped.\n",
      "ENSG00000130489 not found in Ensembl. Case skipped.\n",
      "ENSG00000130489 not found in Ensembl. Case skipped.\n",
      "ENSG00000130489 not found in Ensembl. Case skipped.\n",
      "ENSG00000130489 not found in Ensembl. Case skipped.\n",
      "ENSG00000277203 not found in Ensembl. Case skipped.\n",
      "ENSG00000277203 not found in Ensembl. Case skipped.\n",
      "ENSG00000277203 not found in Ensembl. Case skipped.\n",
      "ENSG00000130723 not found in Ensembl. Case skipped.\n",
      "ENSG00000130489 not found in Ensembl. Case skipped.\n"
     ]
    }
   ],
   "source": [
    "sites_file='./edata/m6Asites'\n",
    "Ensembl_data=EnsemblRelease(110)\n",
    "ENSG_reindex_to_ENST(sites_file,Ensembl_data)"
   ]
  }
 ],
 "metadata": {
  "celltoolbar": "无",
  "kernelspec": {
   "display_name": "torch_gpu",
   "language": "python",
   "name": "pytorch_gpu"
  },
  "language_info": {
   "codemirror_mode": {
    "name": "ipython",
    "version": 3
   },
   "file_extension": ".py",
   "mimetype": "text/x-python",
   "name": "python",
   "nbconvert_exporter": "python",
   "pygments_lexer": "ipython3",
   "version": "3.11.4"
  }
 },
 "nbformat": 4,
 "nbformat_minor": 2
}
